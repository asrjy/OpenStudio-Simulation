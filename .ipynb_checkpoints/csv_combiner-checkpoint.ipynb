{
 "cells": [
  {
   "cell_type": "code",
   "execution_count": 2,
   "metadata": {},
   "outputs": [],
   "source": [
    "import os\n",
    "from shutil import copyfile"
   ]
  },
  {
   "cell_type": "code",
   "execution_count": 3,
   "metadata": {},
   "outputs": [],
   "source": [
    "def get_full_paths(dir_path, absolute=True):\n",
    "    if absolute:\n",
    "        return [os.path.abspath(os.path.join(dir_path, sub_path)) for sub_path in os.listdir(dir_path)]\n",
    "    else:\n",
    "        return [os.path.join(dir_path, sub_path) for sub_path in os.listdir(dir_path)]"
   ]
  },
  {
   "cell_type": "code",
   "execution_count": 17,
   "metadata": {},
   "outputs": [],
   "source": [
    "dir_all_reports = 'D:/cS/Zodhya/git-repos/OpenStudio-Simulation/Models/3~OSWs/efficiency_level_Standard/SmallOfficeDetailed_90.1-2013_2A/Hyderabad/run_1/reports/'\n",
    "dir_cleaned = os.path.join('D:/cS/Zodhya/git-repos/OpenStudio-Simulation/Models/3~OSWs/efficiency_level_Standard/SmallOfficeDetailed_90.1-2013_2A/Hyderabad/run_1', 'clean_extraction')"
   ]
  },
  {
   "cell_type": "code",
   "execution_count": 11,
   "metadata": {},
   "outputs": [],
   "source": [
    "str_eff = \"Standard\"\n",
    "str_clm = \"2A\"\n",
    "str_yr = \"2006\"\n",
    "str_run = \"1\""
   ]
  },
  {
   "cell_type": "code",
   "execution_count": 19,
   "metadata": {},
   "outputs": [],
   "source": [
    "for dir_report in get_full_paths(dir_all_reports):\n",
    "    prefix = f'{str_eff}_{str_clm}_{str_yr}_{str_run}~'\n",
    "    new_name = os.path.basename(dir_report).replace('export_meterto_csv_report_', '').replace('_ZoneTimestep', '')\n",
    "    new_name = new_name.replace('export_variableto_csv_report_', '').replace('_ZoneTimestep', '')\n",
    "    new_file = os.path.join(dir_cleaned, prefix+new_name)\n",
    "    if os.path.exists(new_file):\n",
    "        next\n",
    "    else:\n",
    "        copyfile(dir_report, new_file)"
   ]
  },
  {
   "cell_type": "code",
   "execution_count": 1,
   "metadata": {},
   "outputs": [],
   "source": [
    "combined_csv_path = './Models/3~OSWs/efficiency_level_Standard/SmallOfficeDetailed_90.1-2013_2A/Hyderabad/run_1/clean_extraction'"
   ]
  },
  {
   "cell_type": "code",
   "execution_count": null,
   "metadata": {},
   "outputs": [],
   "source": []
  }
 ],
 "metadata": {
  "interpreter": {
   "hash": "7d2e2d9340a6f8219e2a9e6a45073deb8a415088e2042750bf89fc946b93872d"
  },
  "kernelspec": {
   "display_name": "Python 3 (ipykernel)",
   "language": "python",
   "name": "python3"
  },
  "language_info": {
   "codemirror_mode": {
    "name": "ipython",
    "version": 3
   },
   "file_extension": ".py",
   "mimetype": "text/x-python",
   "name": "python",
   "nbconvert_exporter": "python",
   "pygments_lexer": "ipython3",
   "version": "3.9.7"
  }
 },
 "nbformat": 4,
 "nbformat_minor": 2
}
