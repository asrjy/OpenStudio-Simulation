{
 "cells": [
  {
   "cell_type": "code",
   "execution_count": 2,
   "metadata": {},
   "outputs": [],
   "source": [
    "import os\n",
    "from shutil import copyfile\n",
    "import pandas as pd\n",
    "from tqdm import tqdm\n",
    "from functools import reduce"
   ]
  },
  {
   "cell_type": "code",
   "execution_count": 3,
   "metadata": {},
   "outputs": [],
   "source": [
    "def get_full_paths(dir_path, absolute=True):\n",
    "    if absolute:\n",
    "        return [os.path.abspath(os.path.join(dir_path, sub_path)) for sub_path in os.listdir(dir_path)]\n",
    "    else:\n",
    "        return [os.path.join(dir_path, sub_path) for sub_path in os.listdir(dir_path)]"
   ]
  },
  {
   "cell_type": "code",
   "execution_count": 11,
   "metadata": {},
   "outputs": [],
   "source": [
    "combined_csv_path = '../clean_extraction'\n",
    "csvs = get_full_paths(combined_csv_path)"
   ]
  },
  {
   "cell_type": "code",
   "execution_count": 12,
   "metadata": {},
   "outputs": [
    {
     "name": "stderr",
     "output_type": "stream",
     "text": [
      "100%|██████████| 34/34 [00:04<00:00,  8.44it/s]\n"
     ]
    }
   ],
   "source": [
    "dataframes = []\n",
    "columns = []\n",
    "names = []\n",
    "for csv in tqdm(csvs):\n",
    "    names.append(csv.split('~')[-1].split('.')[0])\n",
    "    df = pd.read_csv(csv)\n",
    "    dataframes.append(df)\n",
    "    columns.append(list(df.columns))\n",
    "merged = reduce(lambda left,right: pd.merge(left,right,on='Zone Timestep', how='outer'), dataframes)"
   ]
  },
  {
   "cell_type": "code",
   "execution_count": null,
   "metadata": {},
   "outputs": [],
   "source": [
    "# merged.to_csv('./Models/merged.csv')"
   ]
  },
  {
   "cell_type": "code",
   "execution_count": 13,
   "metadata": {},
   "outputs": [
    {
     "name": "stdout",
     "output_type": "stream",
     "text": [
      "------ File Name: AirSystemOutdoorAirEconomizerStatus ------\n",
      "Columns:\n",
      "['Zone Timestep', 'CORE_ZN ZN PSZ-AC-1:Air System Outdoor Air Economizer Status[]', 'PERIMETER_ZN_1 ZN PSZ-AC-2:Air System Outdoor Air Economizer Status[]', 'PERIMETER_ZN_2 ZN PSZ-AC-3:Air System Outdoor Air Economizer Status[]', 'PERIMETER_ZN_3 ZN PSZ-AC-4:Air System Outdoor Air Economizer Status[]', 'PERIMETER_ZN_4 ZN PSZ-AC-5:Air System Outdoor Air Economizer Status[]']\n",
      "\n",
      "\n",
      "------ File Name: CoolingElectricity ------\n",
      "Columns:\n",
      "['Zone Timestep', 'Cooling:Electricity[J]']\n",
      "\n",
      "\n",
      "------ File Name: ElectricityFacility ------\n",
      "Columns:\n",
      "['Zone Timestep', 'Electricity:Facility[J]']\n",
      "\n",
      "\n",
      "------ File Name: ElectricityHVAC ------\n",
      "Columns:\n",
      "['Zone Timestep', 'Electricity:HVAC[J]']\n",
      "\n",
      "\n",
      "------ File Name: ExteriorLightsElectricity ------\n",
      "Columns:\n",
      "['Zone Timestep', 'ExteriorLights:Electricity[J]']\n",
      "\n",
      "\n",
      "------ File Name: FanAirMassFlowRate ------\n",
      "Columns:\n",
      "['Zone Timestep', 'CORE_ZN ZN PSZ-AC-1 FAN:Fan Air Mass Flow Rate[kg/s]', 'PERIMETER_ZN_1 ZN PSZ-AC-2 FAN:Fan Air Mass Flow Rate[kg/s]', 'PERIMETER_ZN_2 ZN PSZ-AC-3 FAN:Fan Air Mass Flow Rate[kg/s]', 'PERIMETER_ZN_3 ZN PSZ-AC-4 FAN:Fan Air Mass Flow Rate[kg/s]', 'PERIMETER_ZN_4 ZN PSZ-AC-5 FAN:Fan Air Mass Flow Rate[kg/s]']\n",
      "\n",
      "\n",
      "------ File Name: FanElectricPower ------\n",
      "Columns:\n",
      "['Zone Timestep', 'CORE_ZN ZN PSZ-AC-1 FAN:Fan Electric Power[W]', 'PERIMETER_ZN_1 ZN PSZ-AC-2 FAN:Fan Electric Power[W]', 'PERIMETER_ZN_2 ZN PSZ-AC-3 FAN:Fan Electric Power[W]', 'PERIMETER_ZN_3 ZN PSZ-AC-4 FAN:Fan Electric Power[W]', 'PERIMETER_ZN_4 ZN PSZ-AC-5 FAN:Fan Electric Power[W]']\n",
      "\n",
      "\n",
      "------ File Name: FansElectricity ------\n",
      "Columns:\n",
      "['Zone Timestep', 'Fans:Electricity[J]']\n",
      "\n",
      "\n",
      "------ File Name: GasFacility ------\n",
      "Columns:\n",
      "['Zone Timestep', 'Gas:Facility[J]']\n",
      "\n",
      "\n",
      "------ File Name: GasHVAC ------\n",
      "Columns:\n",
      "['Zone Timestep', 'Gas:HVAC[J]']\n",
      "\n",
      "\n",
      "------ File Name: HeatingElectricity ------\n",
      "Columns:\n",
      "['Zone Timestep', 'Heating:Electricity[J]']\n",
      "\n",
      "\n",
      "------ File Name: InteriorEquipmentElectricity ------\n",
      "Columns:\n",
      "['Zone Timestep', 'InteriorEquipment:Electricity[J]']\n",
      "\n",
      "\n",
      "------ File Name: InteriorLightsElectricity ------\n",
      "Columns:\n",
      "['Zone Timestep', 'InteriorLights:Electricity[J]']\n",
      "\n",
      "\n",
      "------ File Name: PumpElectricPower ------\n",
      "Columns:\n",
      "['Zone Timestep', 'MAIN SERVICE WATER LOOP WATER MAINS PRESSURE DRIVEN:Pump Electric Power[W]']\n",
      "\n",
      "\n",
      "------ File Name: PumpMassFlowRate ------\n",
      "Columns:\n",
      "['Zone Timestep', 'MAIN SERVICE WATER LOOP WATER MAINS PRESSURE DRIVEN:Pump Mass Flow Rate[kg/s]']\n",
      "\n",
      "\n",
      "------ File Name: PumpsElectricity ------\n",
      "Columns:\n",
      "['Zone Timestep', 'Pumps:Electricity[J]']\n",
      "\n",
      "\n",
      "------ File Name: SiteDayTypeIndex ------\n",
      "Columns:\n",
      "['Zone Timestep', 'Environment:Site Day Type Index[]']\n",
      "\n",
      "\n",
      "------ File Name: SiteHorizontalInfraredRadiationRateperArea ------\n",
      "Columns:\n",
      "['Zone Timestep', 'Environment:Site Horizontal Infrared Radiation Rate per Area[W/m2]']\n",
      "\n",
      "\n",
      "------ File Name: SiteOutdoorAirDewpointTemperature ------\n",
      "Columns:\n",
      "['Zone Timestep', 'Environment:Site Outdoor Air Dewpoint Temperature[C]']\n",
      "\n",
      "\n",
      "------ File Name: SiteOutdoorAirDrybulbTemperature ------\n",
      "Columns:\n",
      "['Zone Timestep', 'Environment:Site Outdoor Air Drybulb Temperature[C]']\n",
      "\n",
      "\n",
      "------ File Name: SiteOutdoorAirRelativeHumidity ------\n",
      "Columns:\n",
      "['Zone Timestep', 'Environment:Site Outdoor Air Relative Humidity[%]']\n",
      "\n",
      "\n",
      "------ File Name: SiteOutdoorAirWetbulbTemperature ------\n",
      "Columns:\n",
      "['Zone Timestep', 'Environment:Site Outdoor Air Wetbulb Temperature[C]']\n",
      "\n",
      "\n",
      "------ File Name: SystemNodeMassFlowRate ------\n",
      "Columns:\n",
      "['Zone Timestep', 'CORE_ZN ZN PSZ-AC-1 UNITARY HP COOLING COIL - HEATING COIL NODE:System Node Mass Flow Rate[kg/s]', 'CORE_ZN ZN PSZ-AC-1 UNITARY HP FAN - COOLING COIL NODE:System Node Mass Flow Rate[kg/s]', 'CORE_ZN ZN PSZ-AC-1 UNITARY HP HEATING COIL - SUPPLEMENTAL COIL NODE:System Node Mass Flow Rate[kg/s]', 'MAIN SERVICE WATER LOOP DEMAND BYPASS PIPE INLET NODE:System Node Mass Flow Rate[kg/s]', 'MAIN SERVICE WATER LOOP DEMAND BYPASS PIPE OUTLET NODE:System Node Mass Flow Rate[kg/s]', 'MAIN SERVICE WATER LOOP DEMAND INLET PIPE NODE:System Node Mass Flow Rate[kg/s]', 'MODEL OUTDOOR AIR NODE:System Node Mass Flow Rate[kg/s]', 'NODE 10:System Node Mass Flow Rate[kg/s]', 'NODE 11:System Node Mass Flow Rate[kg/s]', 'NODE 12:System Node Mass Flow Rate[kg/s]', 'NODE 13:System Node Mass Flow Rate[kg/s]', 'NODE 14:System Node Mass Flow Rate[kg/s]', 'NODE 15:System Node Mass Flow Rate[kg/s]', 'NODE 16:System Node Mass Flow Rate[kg/s]', 'NODE 17:System Node Mass Flow Rate[kg/s]', 'NODE 18:System Node Mass Flow Rate[kg/s]', 'NODE 19:System Node Mass Flow Rate[kg/s]', 'NODE 2:System Node Mass Flow Rate[kg/s]', 'NODE 20:System Node Mass Flow Rate[kg/s]', 'NODE 21:System Node Mass Flow Rate[kg/s]', 'NODE 22:System Node Mass Flow Rate[kg/s]', 'NODE 23:System Node Mass Flow Rate[kg/s]', 'NODE 24:System Node Mass Flow Rate[kg/s]', 'NODE 25:System Node Mass Flow Rate[kg/s]', 'NODE 26:System Node Mass Flow Rate[kg/s]', 'NODE 27:System Node Mass Flow Rate[kg/s]', 'NODE 28:System Node Mass Flow Rate[kg/s]', 'NODE 29:System Node Mass Flow Rate[kg/s]', 'NODE 3:System Node Mass Flow Rate[kg/s]', 'NODE 30:System Node Mass Flow Rate[kg/s]', 'NODE 31:System Node Mass Flow Rate[kg/s]', 'NODE 32:System Node Mass Flow Rate[kg/s]', 'NODE 33:System Node Mass Flow Rate[kg/s]', 'NODE 34:System Node Mass Flow Rate[kg/s]', 'NODE 35:System Node Mass Flow Rate[kg/s]', 'NODE 36:System Node Mass Flow Rate[kg/s]', 'NODE 37:System Node Mass Flow Rate[kg/s]', 'NODE 38:System Node Mass Flow Rate[kg/s]', 'NODE 39:System Node Mass Flow Rate[kg/s]', 'NODE 4:System Node Mass Flow Rate[kg/s]', 'NODE 40:System Node Mass Flow Rate[kg/s]', 'NODE 41:System Node Mass Flow Rate[kg/s]', 'NODE 42:System Node Mass Flow Rate[kg/s]', 'NODE 43:System Node Mass Flow Rate[kg/s]', 'NODE 44:System Node Mass Flow Rate[kg/s]', 'NODE 45:System Node Mass Flow Rate[kg/s]', 'NODE 46:System Node Mass Flow Rate[kg/s]', 'NODE 47:System Node Mass Flow Rate[kg/s]', 'NODE 48:System Node Mass Flow Rate[kg/s]', 'NODE 49:System Node Mass Flow Rate[kg/s]', 'NODE 5:System Node Mass Flow Rate[kg/s]', 'NODE 50:System Node Mass Flow Rate[kg/s]', 'NODE 51:System Node Mass Flow Rate[kg/s]', 'NODE 52:System Node Mass Flow Rate[kg/s]', 'NODE 53:System Node Mass Flow Rate[kg/s]', 'NODE 54:System Node Mass Flow Rate[kg/s]', 'NODE 55:System Node Mass Flow Rate[kg/s]', 'NODE 56:System Node Mass Flow Rate[kg/s]', 'NODE 57:System Node Mass Flow Rate[kg/s]', 'NODE 58:System Node Mass Flow Rate[kg/s]', 'NODE 59:System Node Mass Flow Rate[kg/s]', 'NODE 6:System Node Mass Flow Rate[kg/s]', 'NODE 60:System Node Mass Flow Rate[kg/s]', 'NODE 61:System Node Mass Flow Rate[kg/s]', 'NODE 62:System Node Mass Flow Rate[kg/s]', 'NODE 63:System Node Mass Flow Rate[kg/s]', 'NODE 64:System Node Mass Flow Rate[kg/s]', 'NODE 65:System Node Mass Flow Rate[kg/s]', 'NODE 66:System Node Mass Flow Rate[kg/s]', 'NODE 67:System Node Mass Flow Rate[kg/s]', 'NODE 68:System Node Mass Flow Rate[kg/s]', 'NODE 69:System Node Mass Flow Rate[kg/s]', 'NODE 7:System Node Mass Flow Rate[kg/s]', 'NODE 70:System Node Mass Flow Rate[kg/s]', 'NODE 71:System Node Mass Flow Rate[kg/s]', 'NODE 8:System Node Mass Flow Rate[kg/s]', 'NODE 9:System Node Mass Flow Rate[kg/s]', 'PERIMETER_ZN_1 ZN PSZ-AC-2 UNITARY HP COOLING COIL - HEATING COIL NODE:System Node Mass Flow Rate[kg/s]', 'PERIMETER_ZN_1 ZN PSZ-AC-2 UNITARY HP FAN - COOLING COIL NODE:System Node Mass Flow Rate[kg/s]', 'PERIMETER_ZN_1 ZN PSZ-AC-2 UNITARY HP HEATING COIL - SUPPLEMENTAL COIL NODE:System Node Mass Flow Rate[kg/s]', 'PERIMETER_ZN_2 ZN PSZ-AC-3 UNITARY HP COOLING COIL - HEATING COIL NODE:System Node Mass Flow Rate[kg/s]', 'PERIMETER_ZN_2 ZN PSZ-AC-3 UNITARY HP FAN - COOLING COIL NODE:System Node Mass Flow Rate[kg/s]', 'PERIMETER_ZN_2 ZN PSZ-AC-3 UNITARY HP HEATING COIL - SUPPLEMENTAL COIL NODE:System Node Mass Flow Rate[kg/s]', 'PERIMETER_ZN_3 ZN PSZ-AC-4 UNITARY HP COOLING COIL - HEATING COIL NODE:System Node Mass Flow Rate[kg/s]', 'PERIMETER_ZN_3 ZN PSZ-AC-4 UNITARY HP FAN - COOLING COIL NODE:System Node Mass Flow Rate[kg/s]', 'PERIMETER_ZN_3 ZN PSZ-AC-4 UNITARY HP HEATING COIL - SUPPLEMENTAL COIL NODE:System Node Mass Flow Rate[kg/s]', 'PERIMETER_ZN_4 ZN PSZ-AC-5 UNITARY HP COOLING COIL - HEATING COIL NODE:System Node Mass Flow Rate[kg/s]', 'PERIMETER_ZN_4 ZN PSZ-AC-5 UNITARY HP FAN - COOLING COIL NODE:System Node Mass Flow Rate[kg/s]', 'PERIMETER_ZN_4 ZN PSZ-AC-5 UNITARY HP HEATING COIL - SUPPLEMENTAL COIL NODE:System Node Mass Flow Rate[kg/s]']\n",
      "\n",
      "\n",
      "------ File Name: SystemNodePressure ------\n",
      "Columns:\n",
      "['Zone Timestep', 'CORE_ZN ZN PSZ-AC-1 UNITARY HP COOLING COIL - HEATING COIL NODE:System Node Pressure[Pa]', 'CORE_ZN ZN PSZ-AC-1 UNITARY HP FAN - COOLING COIL NODE:System Node Pressure[Pa]', 'CORE_ZN ZN PSZ-AC-1 UNITARY HP HEATING COIL - SUPPLEMENTAL COIL NODE:System Node Pressure[Pa]', 'MAIN SERVICE WATER LOOP DEMAND BYPASS PIPE INLET NODE:System Node Pressure[Pa]', 'MAIN SERVICE WATER LOOP DEMAND BYPASS PIPE OUTLET NODE:System Node Pressure[Pa]', 'MAIN SERVICE WATER LOOP DEMAND INLET PIPE NODE:System Node Pressure[Pa]', 'MODEL OUTDOOR AIR NODE:System Node Pressure[Pa]', 'NODE 10:System Node Pressure[Pa]', 'NODE 11:System Node Pressure[Pa]', 'NODE 12:System Node Pressure[Pa]', 'NODE 13:System Node Pressure[Pa]', 'NODE 14:System Node Pressure[Pa]', 'NODE 15:System Node Pressure[Pa]', 'NODE 16:System Node Pressure[Pa]', 'NODE 17:System Node Pressure[Pa]', 'NODE 18:System Node Pressure[Pa]', 'NODE 19:System Node Pressure[Pa]', 'NODE 2:System Node Pressure[Pa]', 'NODE 20:System Node Pressure[Pa]', 'NODE 21:System Node Pressure[Pa]', 'NODE 22:System Node Pressure[Pa]', 'NODE 23:System Node Pressure[Pa]', 'NODE 24:System Node Pressure[Pa]', 'NODE 25:System Node Pressure[Pa]', 'NODE 26:System Node Pressure[Pa]', 'NODE 27:System Node Pressure[Pa]', 'NODE 28:System Node Pressure[Pa]', 'NODE 29:System Node Pressure[Pa]', 'NODE 3:System Node Pressure[Pa]', 'NODE 30:System Node Pressure[Pa]', 'NODE 31:System Node Pressure[Pa]', 'NODE 32:System Node Pressure[Pa]', 'NODE 33:System Node Pressure[Pa]', 'NODE 34:System Node Pressure[Pa]', 'NODE 35:System Node Pressure[Pa]', 'NODE 36:System Node Pressure[Pa]', 'NODE 37:System Node Pressure[Pa]', 'NODE 38:System Node Pressure[Pa]', 'NODE 39:System Node Pressure[Pa]', 'NODE 4:System Node Pressure[Pa]', 'NODE 40:System Node Pressure[Pa]', 'NODE 41:System Node Pressure[Pa]', 'NODE 42:System Node Pressure[Pa]', 'NODE 43:System Node Pressure[Pa]', 'NODE 44:System Node Pressure[Pa]', 'NODE 45:System Node Pressure[Pa]', 'NODE 46:System Node Pressure[Pa]', 'NODE 47:System Node Pressure[Pa]', 'NODE 48:System Node Pressure[Pa]', 'NODE 49:System Node Pressure[Pa]', 'NODE 5:System Node Pressure[Pa]', 'NODE 50:System Node Pressure[Pa]', 'NODE 51:System Node Pressure[Pa]', 'NODE 52:System Node Pressure[Pa]', 'NODE 53:System Node Pressure[Pa]', 'NODE 54:System Node Pressure[Pa]', 'NODE 55:System Node Pressure[Pa]', 'NODE 56:System Node Pressure[Pa]', 'NODE 57:System Node Pressure[Pa]', 'NODE 58:System Node Pressure[Pa]', 'NODE 59:System Node Pressure[Pa]', 'NODE 6:System Node Pressure[Pa]', 'NODE 60:System Node Pressure[Pa]', 'NODE 61:System Node Pressure[Pa]', 'NODE 62:System Node Pressure[Pa]', 'NODE 63:System Node Pressure[Pa]', 'NODE 64:System Node Pressure[Pa]', 'NODE 65:System Node Pressure[Pa]', 'NODE 66:System Node Pressure[Pa]', 'NODE 67:System Node Pressure[Pa]', 'NODE 68:System Node Pressure[Pa]', 'NODE 69:System Node Pressure[Pa]', 'NODE 7:System Node Pressure[Pa]', 'NODE 70:System Node Pressure[Pa]', 'NODE 71:System Node Pressure[Pa]', 'NODE 8:System Node Pressure[Pa]', 'NODE 9:System Node Pressure[Pa]', 'PERIMETER_ZN_1 ZN PSZ-AC-2 UNITARY HP COOLING COIL - HEATING COIL NODE:System Node Pressure[Pa]', 'PERIMETER_ZN_1 ZN PSZ-AC-2 UNITARY HP FAN - COOLING COIL NODE:System Node Pressure[Pa]', 'PERIMETER_ZN_1 ZN PSZ-AC-2 UNITARY HP HEATING COIL - SUPPLEMENTAL COIL NODE:System Node Pressure[Pa]', 'PERIMETER_ZN_2 ZN PSZ-AC-3 UNITARY HP COOLING COIL - HEATING COIL NODE:System Node Pressure[Pa]', 'PERIMETER_ZN_2 ZN PSZ-AC-3 UNITARY HP FAN - COOLING COIL NODE:System Node Pressure[Pa]', 'PERIMETER_ZN_2 ZN PSZ-AC-3 UNITARY HP HEATING COIL - SUPPLEMENTAL COIL NODE:System Node Pressure[Pa]', 'PERIMETER_ZN_3 ZN PSZ-AC-4 UNITARY HP COOLING COIL - HEATING COIL NODE:System Node Pressure[Pa]', 'PERIMETER_ZN_3 ZN PSZ-AC-4 UNITARY HP FAN - COOLING COIL NODE:System Node Pressure[Pa]', 'PERIMETER_ZN_3 ZN PSZ-AC-4 UNITARY HP HEATING COIL - SUPPLEMENTAL COIL NODE:System Node Pressure[Pa]', 'PERIMETER_ZN_4 ZN PSZ-AC-5 UNITARY HP COOLING COIL - HEATING COIL NODE:System Node Pressure[Pa]', 'PERIMETER_ZN_4 ZN PSZ-AC-5 UNITARY HP FAN - COOLING COIL NODE:System Node Pressure[Pa]', 'PERIMETER_ZN_4 ZN PSZ-AC-5 UNITARY HP HEATING COIL - SUPPLEMENTAL COIL NODE:System Node Pressure[Pa]']\n",
      "\n",
      "\n",
      "------ File Name: SystemNodeRelativeHumidity ------\n",
      "Columns:\n",
      "['Zone Timestep', 'CORE_ZN ZN PSZ-AC-1 UNITARY HP COOLING COIL - HEATING COIL NODE:System Node Relative Humidity[%]', 'CORE_ZN ZN PSZ-AC-1 UNITARY HP FAN - COOLING COIL NODE:System Node Relative Humidity[%]', 'CORE_ZN ZN PSZ-AC-1 UNITARY HP HEATING COIL - SUPPLEMENTAL COIL NODE:System Node Relative Humidity[%]', 'MAIN SERVICE WATER LOOP DEMAND BYPASS PIPE INLET NODE:System Node Relative Humidity[%]', 'MAIN SERVICE WATER LOOP DEMAND BYPASS PIPE OUTLET NODE:System Node Relative Humidity[%]', 'MAIN SERVICE WATER LOOP DEMAND INLET PIPE NODE:System Node Relative Humidity[%]', 'MODEL OUTDOOR AIR NODE:System Node Relative Humidity[%]', 'NODE 10:System Node Relative Humidity[%]', 'NODE 11:System Node Relative Humidity[%]', 'NODE 12:System Node Relative Humidity[%]', 'NODE 13:System Node Relative Humidity[%]', 'NODE 14:System Node Relative Humidity[%]', 'NODE 15:System Node Relative Humidity[%]', 'NODE 16:System Node Relative Humidity[%]', 'NODE 17:System Node Relative Humidity[%]', 'NODE 18:System Node Relative Humidity[%]', 'NODE 19:System Node Relative Humidity[%]', 'NODE 2:System Node Relative Humidity[%]', 'NODE 20:System Node Relative Humidity[%]', 'NODE 21:System Node Relative Humidity[%]', 'NODE 22:System Node Relative Humidity[%]', 'NODE 23:System Node Relative Humidity[%]', 'NODE 24:System Node Relative Humidity[%]', 'NODE 25:System Node Relative Humidity[%]', 'NODE 26:System Node Relative Humidity[%]', 'NODE 27:System Node Relative Humidity[%]', 'NODE 28:System Node Relative Humidity[%]', 'NODE 29:System Node Relative Humidity[%]', 'NODE 3:System Node Relative Humidity[%]', 'NODE 30:System Node Relative Humidity[%]', 'NODE 31:System Node Relative Humidity[%]', 'NODE 32:System Node Relative Humidity[%]', 'NODE 33:System Node Relative Humidity[%]', 'NODE 34:System Node Relative Humidity[%]', 'NODE 35:System Node Relative Humidity[%]', 'NODE 36:System Node Relative Humidity[%]', 'NODE 37:System Node Relative Humidity[%]', 'NODE 38:System Node Relative Humidity[%]', 'NODE 39:System Node Relative Humidity[%]', 'NODE 4:System Node Relative Humidity[%]', 'NODE 40:System Node Relative Humidity[%]', 'NODE 41:System Node Relative Humidity[%]', 'NODE 42:System Node Relative Humidity[%]', 'NODE 43:System Node Relative Humidity[%]', 'NODE 44:System Node Relative Humidity[%]', 'NODE 45:System Node Relative Humidity[%]', 'NODE 46:System Node Relative Humidity[%]', 'NODE 47:System Node Relative Humidity[%]', 'NODE 48:System Node Relative Humidity[%]', 'NODE 49:System Node Relative Humidity[%]', 'NODE 5:System Node Relative Humidity[%]', 'NODE 50:System Node Relative Humidity[%]', 'NODE 51:System Node Relative Humidity[%]', 'NODE 52:System Node Relative Humidity[%]', 'NODE 53:System Node Relative Humidity[%]', 'NODE 54:System Node Relative Humidity[%]', 'NODE 55:System Node Relative Humidity[%]', 'NODE 56:System Node Relative Humidity[%]', 'NODE 57:System Node Relative Humidity[%]', 'NODE 58:System Node Relative Humidity[%]', 'NODE 59:System Node Relative Humidity[%]', 'NODE 6:System Node Relative Humidity[%]', 'NODE 60:System Node Relative Humidity[%]', 'NODE 61:System Node Relative Humidity[%]', 'NODE 62:System Node Relative Humidity[%]', 'NODE 63:System Node Relative Humidity[%]', 'NODE 64:System Node Relative Humidity[%]', 'NODE 65:System Node Relative Humidity[%]', 'NODE 66:System Node Relative Humidity[%]', 'NODE 67:System Node Relative Humidity[%]', 'NODE 68:System Node Relative Humidity[%]', 'NODE 69:System Node Relative Humidity[%]', 'NODE 7:System Node Relative Humidity[%]', 'NODE 70:System Node Relative Humidity[%]', 'NODE 71:System Node Relative Humidity[%]', 'NODE 8:System Node Relative Humidity[%]', 'NODE 9:System Node Relative Humidity[%]', 'PERIMETER_ZN_1 ZN PSZ-AC-2 UNITARY HP COOLING COIL - HEATING COIL NODE:System Node Relative Humidity[%]', 'PERIMETER_ZN_1 ZN PSZ-AC-2 UNITARY HP FAN - COOLING COIL NODE:System Node Relative Humidity[%]', 'PERIMETER_ZN_1 ZN PSZ-AC-2 UNITARY HP HEATING COIL - SUPPLEMENTAL COIL NODE:System Node Relative Humidity[%]', 'PERIMETER_ZN_2 ZN PSZ-AC-3 UNITARY HP COOLING COIL - HEATING COIL NODE:System Node Relative Humidity[%]', 'PERIMETER_ZN_2 ZN PSZ-AC-3 UNITARY HP FAN - COOLING COIL NODE:System Node Relative Humidity[%]', 'PERIMETER_ZN_2 ZN PSZ-AC-3 UNITARY HP HEATING COIL - SUPPLEMENTAL COIL NODE:System Node Relative Humidity[%]', 'PERIMETER_ZN_3 ZN PSZ-AC-4 UNITARY HP COOLING COIL - HEATING COIL NODE:System Node Relative Humidity[%]', 'PERIMETER_ZN_3 ZN PSZ-AC-4 UNITARY HP FAN - COOLING COIL NODE:System Node Relative Humidity[%]', 'PERIMETER_ZN_3 ZN PSZ-AC-4 UNITARY HP HEATING COIL - SUPPLEMENTAL COIL NODE:System Node Relative Humidity[%]', 'PERIMETER_ZN_4 ZN PSZ-AC-5 UNITARY HP COOLING COIL - HEATING COIL NODE:System Node Relative Humidity[%]', 'PERIMETER_ZN_4 ZN PSZ-AC-5 UNITARY HP FAN - COOLING COIL NODE:System Node Relative Humidity[%]', 'PERIMETER_ZN_4 ZN PSZ-AC-5 UNITARY HP HEATING COIL - SUPPLEMENTAL COIL NODE:System Node Relative Humidity[%]']\n",
      "\n",
      "\n",
      "------ File Name: SystemNodeTemperature ------\n",
      "Columns:\n",
      "['Zone Timestep', 'CORE_ZN ZN PSZ-AC-1 UNITARY HP COOLING COIL - HEATING COIL NODE:System Node Temperature[C]', 'CORE_ZN ZN PSZ-AC-1 UNITARY HP FAN - COOLING COIL NODE:System Node Temperature[C]', 'CORE_ZN ZN PSZ-AC-1 UNITARY HP HEATING COIL - SUPPLEMENTAL COIL NODE:System Node Temperature[C]', 'MAIN SERVICE WATER LOOP DEMAND BYPASS PIPE INLET NODE:System Node Temperature[C]', 'MAIN SERVICE WATER LOOP DEMAND BYPASS PIPE OUTLET NODE:System Node Temperature[C]', 'MAIN SERVICE WATER LOOP DEMAND INLET PIPE NODE:System Node Temperature[C]', 'MODEL OUTDOOR AIR NODE:System Node Temperature[C]', 'NODE 10:System Node Temperature[C]', 'NODE 11:System Node Temperature[C]', 'NODE 12:System Node Temperature[C]', 'NODE 13:System Node Temperature[C]', 'NODE 14:System Node Temperature[C]', 'NODE 15:System Node Temperature[C]', 'NODE 16:System Node Temperature[C]', 'NODE 17:System Node Temperature[C]', 'NODE 18:System Node Temperature[C]', 'NODE 19:System Node Temperature[C]', 'NODE 2:System Node Temperature[C]', 'NODE 20:System Node Temperature[C]', 'NODE 21:System Node Temperature[C]', 'NODE 22:System Node Temperature[C]', 'NODE 23:System Node Temperature[C]', 'NODE 24:System Node Temperature[C]', 'NODE 25:System Node Temperature[C]', 'NODE 26:System Node Temperature[C]', 'NODE 27:System Node Temperature[C]', 'NODE 28:System Node Temperature[C]', 'NODE 29:System Node Temperature[C]', 'NODE 3:System Node Temperature[C]', 'NODE 30:System Node Temperature[C]', 'NODE 31:System Node Temperature[C]', 'NODE 32:System Node Temperature[C]', 'NODE 33:System Node Temperature[C]', 'NODE 34:System Node Temperature[C]', 'NODE 35:System Node Temperature[C]', 'NODE 36:System Node Temperature[C]', 'NODE 37:System Node Temperature[C]', 'NODE 38:System Node Temperature[C]', 'NODE 39:System Node Temperature[C]', 'NODE 4:System Node Temperature[C]', 'NODE 40:System Node Temperature[C]', 'NODE 41:System Node Temperature[C]', 'NODE 42:System Node Temperature[C]', 'NODE 43:System Node Temperature[C]', 'NODE 44:System Node Temperature[C]', 'NODE 45:System Node Temperature[C]', 'NODE 46:System Node Temperature[C]', 'NODE 47:System Node Temperature[C]', 'NODE 48:System Node Temperature[C]', 'NODE 49:System Node Temperature[C]', 'NODE 5:System Node Temperature[C]', 'NODE 50:System Node Temperature[C]', 'NODE 51:System Node Temperature[C]', 'NODE 52:System Node Temperature[C]', 'NODE 53:System Node Temperature[C]', 'NODE 54:System Node Temperature[C]', 'NODE 55:System Node Temperature[C]', 'NODE 56:System Node Temperature[C]', 'NODE 57:System Node Temperature[C]', 'NODE 58:System Node Temperature[C]', 'NODE 59:System Node Temperature[C]', 'NODE 6:System Node Temperature[C]', 'NODE 60:System Node Temperature[C]', 'NODE 61:System Node Temperature[C]', 'NODE 62:System Node Temperature[C]', 'NODE 63:System Node Temperature[C]', 'NODE 64:System Node Temperature[C]', 'NODE 65:System Node Temperature[C]', 'NODE 66:System Node Temperature[C]', 'NODE 67:System Node Temperature[C]', 'NODE 68:System Node Temperature[C]', 'NODE 69:System Node Temperature[C]', 'NODE 7:System Node Temperature[C]', 'NODE 70:System Node Temperature[C]', 'NODE 71:System Node Temperature[C]', 'NODE 8:System Node Temperature[C]', 'NODE 9:System Node Temperature[C]', 'PERIMETER_ZN_1 ZN PSZ-AC-2 UNITARY HP COOLING COIL - HEATING COIL NODE:System Node Temperature[C]', 'PERIMETER_ZN_1 ZN PSZ-AC-2 UNITARY HP FAN - COOLING COIL NODE:System Node Temperature[C]', 'PERIMETER_ZN_1 ZN PSZ-AC-2 UNITARY HP HEATING COIL - SUPPLEMENTAL COIL NODE:System Node Temperature[C]', 'PERIMETER_ZN_2 ZN PSZ-AC-3 UNITARY HP COOLING COIL - HEATING COIL NODE:System Node Temperature[C]', 'PERIMETER_ZN_2 ZN PSZ-AC-3 UNITARY HP FAN - COOLING COIL NODE:System Node Temperature[C]', 'PERIMETER_ZN_2 ZN PSZ-AC-3 UNITARY HP HEATING COIL - SUPPLEMENTAL COIL NODE:System Node Temperature[C]', 'PERIMETER_ZN_3 ZN PSZ-AC-4 UNITARY HP COOLING COIL - HEATING COIL NODE:System Node Temperature[C]', 'PERIMETER_ZN_3 ZN PSZ-AC-4 UNITARY HP FAN - COOLING COIL NODE:System Node Temperature[C]', 'PERIMETER_ZN_3 ZN PSZ-AC-4 UNITARY HP HEATING COIL - SUPPLEMENTAL COIL NODE:System Node Temperature[C]', 'PERIMETER_ZN_4 ZN PSZ-AC-5 UNITARY HP COOLING COIL - HEATING COIL NODE:System Node Temperature[C]', 'PERIMETER_ZN_4 ZN PSZ-AC-5 UNITARY HP FAN - COOLING COIL NODE:System Node Temperature[C]', 'PERIMETER_ZN_4 ZN PSZ-AC-5 UNITARY HP HEATING COIL - SUPPLEMENTAL COIL NODE:System Node Temperature[C]']\n",
      "\n",
      "\n",
      "------ File Name: ZoneAirRelativeHumidity ------\n",
      "Columns:\n",
      "['Zone Timestep', 'ATTIC ZN:Zone Air Relative Humidity[%]', 'CORE_ZN ZN:Zone Air Relative Humidity[%]', 'PERIMETER_ZN_1 ZN:Zone Air Relative Humidity[%]', 'PERIMETER_ZN_2 ZN:Zone Air Relative Humidity[%]', 'PERIMETER_ZN_3 ZN:Zone Air Relative Humidity[%]', 'PERIMETER_ZN_4 ZN:Zone Air Relative Humidity[%]']\n",
      "\n",
      "\n",
      "------ File Name: ZoneElectricEquipmentElectricPower ------\n",
      "Columns:\n",
      "['Zone Timestep', 'CORE_ZN ZN:Zone Electric Equipment Electric Power[W]', 'PERIMETER_ZN_1 ZN:Zone Electric Equipment Electric Power[W]', 'PERIMETER_ZN_2 ZN:Zone Electric Equipment Electric Power[W]', 'PERIMETER_ZN_3 ZN:Zone Electric Equipment Electric Power[W]', 'PERIMETER_ZN_4 ZN:Zone Electric Equipment Electric Power[W]']\n",
      "\n",
      "\n",
      "------ File Name: ZoneLightsElectricPower ------\n",
      "Columns:\n",
      "['Zone Timestep', 'CORE_ZN ZN:Zone Lights Electric Power[W]', 'PERIMETER_ZN_1 ZN:Zone Lights Electric Power[W]', 'PERIMETER_ZN_2 ZN:Zone Lights Electric Power[W]', 'PERIMETER_ZN_3 ZN:Zone Lights Electric Power[W]', 'PERIMETER_ZN_4 ZN:Zone Lights Electric Power[W]']\n",
      "\n",
      "\n",
      "------ File Name: ZoneMeanAirTemperature ------\n",
      "Columns:\n",
      "['Zone Timestep', 'ATTIC ZN:Zone Mean Air Temperature[C]', 'CORE_ZN ZN:Zone Mean Air Temperature[C]', 'PERIMETER_ZN_1 ZN:Zone Mean Air Temperature[C]', 'PERIMETER_ZN_2 ZN:Zone Mean Air Temperature[C]', 'PERIMETER_ZN_3 ZN:Zone Mean Air Temperature[C]', 'PERIMETER_ZN_4 ZN:Zone Mean Air Temperature[C]']\n",
      "\n",
      "\n",
      "------ File Name: ZoneMechanicalVentilationMassFlowRate ------\n",
      "Columns:\n",
      "['Zone Timestep', 'CORE_ZN ZN:Zone Mechanical Ventilation Mass Flow Rate[kg/s]', 'PERIMETER_ZN_1 ZN:Zone Mechanical Ventilation Mass Flow Rate[kg/s]', 'PERIMETER_ZN_2 ZN:Zone Mechanical Ventilation Mass Flow Rate[kg/s]', 'PERIMETER_ZN_3 ZN:Zone Mechanical Ventilation Mass Flow Rate[kg/s]', 'PERIMETER_ZN_4 ZN:Zone Mechanical Ventilation Mass Flow Rate[kg/s]']\n",
      "\n",
      "\n",
      "------ File Name: ZonePeopleOccupantCount ------\n",
      "Columns:\n",
      "['Zone Timestep', 'CORE_ZN ZN:Zone People Occupant Count[]', 'PERIMETER_ZN_1 ZN:Zone People Occupant Count[]', 'PERIMETER_ZN_2 ZN:Zone People Occupant Count[]', 'PERIMETER_ZN_3 ZN:Zone People Occupant Count[]', 'PERIMETER_ZN_4 ZN:Zone People Occupant Count[]']\n",
      "\n",
      "\n",
      "------ File Name: ZoneThermostatCoolingSetpointTemperature ------\n",
      "Columns:\n",
      "['Zone Timestep', 'ATTIC ZN:Zone Thermostat Cooling Setpoint Temperature[C]', 'CORE_ZN ZN:Zone Thermostat Cooling Setpoint Temperature[C]', 'PERIMETER_ZN_1 ZN:Zone Thermostat Cooling Setpoint Temperature[C]', 'PERIMETER_ZN_2 ZN:Zone Thermostat Cooling Setpoint Temperature[C]', 'PERIMETER_ZN_3 ZN:Zone Thermostat Cooling Setpoint Temperature[C]', 'PERIMETER_ZN_4 ZN:Zone Thermostat Cooling Setpoint Temperature[C]']\n",
      "\n",
      "\n",
      "------ File Name: ZoneThermostatHeatingSetpointTemperature ------\n",
      "Columns:\n",
      "['Zone Timestep', 'ATTIC ZN:Zone Thermostat Heating Setpoint Temperature[C]', 'CORE_ZN ZN:Zone Thermostat Heating Setpoint Temperature[C]', 'PERIMETER_ZN_1 ZN:Zone Thermostat Heating Setpoint Temperature[C]', 'PERIMETER_ZN_2 ZN:Zone Thermostat Heating Setpoint Temperature[C]', 'PERIMETER_ZN_3 ZN:Zone Thermostat Heating Setpoint Temperature[C]', 'PERIMETER_ZN_4 ZN:Zone Thermostat Heating Setpoint Temperature[C]']\n",
      "\n",
      "\n"
     ]
    }
   ],
   "source": [
    "for index, column in enumerate(columns):\n",
    "    print(f\"------ File Name: {names[index]} ------\\nColumns:\\n{column}\\n\\n\")"
   ]
  },
  {
   "cell_type": "code",
   "execution_count": 11,
   "metadata": {},
   "outputs": [],
   "source": [
    "df_sf = pd.read_csv('Datasets/newsanfran.csv')"
   ]
  },
  {
   "cell_type": "code",
   "execution_count": 12,
   "metadata": {},
   "outputs": [
    {
     "data": {
      "text/plain": [
       "Index(['Unnamed: 0.1', 'Unnamed: 0', 'Electricity:HVAC[J]',\n",
       "       'Fans:Electricity[J]', 'Heating:Electricity[J]',\n",
       "       'Environment:Site Horizontal Infrared Radiation Rate per Area[W/m2]',\n",
       "       'Environment:Site Outdoor Air Dewpoint Temperature[C]',\n",
       "       'Environment:Site Outdoor Air Drybulb Temperature[C]',\n",
       "       'Environment:Site Outdoor Air Relative Humidity[%]',\n",
       "       'Environment:Site Outdoor Air Wetbulb Temperature[C]',\n",
       "       'System Node Mass Flow Rate[kg/s]', 'System Node Pressure[Pa]',\n",
       "       'System Node Relative Humidity[%]', 'System Node Temperature[C]',\n",
       "       'Zone Air Relative Humidity[%]', 'Zone Mean Air Temperature[C]',\n",
       "       'Zone People Occupant Count',\n",
       "       'Zone Thermostat Cooling Setpoint Temperature[C]',\n",
       "       'Zone Thermostat Heating Setpoint Temperature[C]'],\n",
       "      dtype='object')"
      ]
     },
     "execution_count": 12,
     "metadata": {},
     "output_type": "execute_result"
    }
   ],
   "source": [
    "df_sf.columns"
   ]
  },
  {
   "cell_type": "markdown",
   "metadata": {},
   "source": [
    "ElectricityHVAC\n",
    "\n",
    "FansElectricity\n",
    "\n",
    "HeatingElectricity\n",
    "\n",
    "SiteOutdoorAirDewpointTemperature\n",
    "\n",
    "SiteOutdoorAirDrybulbTemperature\n",
    "\n",
    "SiteOutdoorAirRelativeHumidity\n",
    "\n",
    "SiteOutdoorAirWetbulbTemperature\n",
    "\n",
    "\n"
   ]
  }
 ],
 "metadata": {
  "interpreter": {
   "hash": "7d2e2d9340a6f8219e2a9e6a45073deb8a415088e2042750bf89fc946b93872d"
  },
  "kernelspec": {
   "display_name": "Python 3 (ipykernel)",
   "language": "python",
   "name": "python3"
  },
  "language_info": {
   "codemirror_mode": {
    "name": "ipython",
    "version": 3
   },
   "file_extension": ".py",
   "mimetype": "text/x-python",
   "name": "python",
   "nbconvert_exporter": "python",
   "pygments_lexer": "ipython3",
   "version": "3.9.12"
  }
 },
 "nbformat": 4,
 "nbformat_minor": 2
}
